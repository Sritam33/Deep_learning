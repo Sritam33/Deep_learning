{
  "nbformat": 4,
  "nbformat_minor": 0,
  "metadata": {
    "colab": {
      "provenance": [],
      "gpuType": "T4",
      "authorship_tag": "ABX9TyMTVUZHMQt6qTj6YDLdYULq",
      "include_colab_link": true
    },
    "kernelspec": {
      "name": "python3",
      "display_name": "Python 3"
    },
    "language_info": {
      "name": "python"
    },
    "accelerator": "GPU"
  },
  "cells": [
    {
      "cell_type": "markdown",
      "metadata": {
        "id": "view-in-github",
        "colab_type": "text"
      },
      "source": [
        "<a href=\"https://colab.research.google.com/github/Sritam33/Deep_learning/blob/main/titanic_data_mlp_using_dropout_layer_%2Bearly_stoping_%2Blr_scheduler.ipynb\" target=\"_parent\"><img src=\"https://colab.research.google.com/assets/colab-badge.svg\" alt=\"Open In Colab\"/></a>"
      ]
    },
    {
      "cell_type": "code",
      "execution_count": null,
      "metadata": {
        "id": "W967JEfEVhqA"
      },
      "outputs": [],
      "source": [
        "import numpy as np\n",
        "import pandas as pd\n",
        "import torch\n",
        "import torch.nn as nn\n",
        "import torch.optim as optim\n",
        "from sklearn.preprocessing import LabelEncoder\n",
        "from torch.utils.data import DataLoader, TensorDataset\n",
        "from sklearn.model_selection import train_test_split"
      ]
    },
    {
      "cell_type": "code",
      "source": [
        "device = torch.device(\"cuda\" if torch.cuda.is_available() else \"cpu\" )\n",
        "device"
      ],
      "metadata": {
        "colab": {
          "base_uri": "https://localhost:8080/"
        },
        "id": "ejgVnPx4XL-e",
        "outputId": "22989ec6-ed19-4336-8690-01d2351f66a5"
      },
      "execution_count": null,
      "outputs": [
        {
          "output_type": "execute_result",
          "data": {
            "text/plain": [
              "device(type='cuda')"
            ]
          },
          "metadata": {},
          "execution_count": 17
        }
      ]
    },
    {
      "cell_type": "code",
      "source": [
        "training_data = pd.read_csv(\"/content/train (2).csv\")\n",
        "test_data = pd.read_csv(\"/content/test (2).csv\")\n",
        "print(training_data.shape)\n",
        "print(test_data.shape)"
      ],
      "metadata": {
        "colab": {
          "base_uri": "https://localhost:8080/"
        },
        "id": "T_xXJ6diXgSF",
        "outputId": "c4342f81-4153-4a6c-9003-2afc8a4f537b"
      },
      "execution_count": null,
      "outputs": [
        {
          "output_type": "stream",
          "name": "stdout",
          "text": [
            "(891, 12)\n",
            "(418, 11)\n"
          ]
        }
      ]
    },
    {
      "cell_type": "code",
      "source": [
        "training_data.head()"
      ],
      "metadata": {
        "colab": {
          "base_uri": "https://localhost:8080/",
          "height": 504
        },
        "id": "IuyKuqLeYAyw",
        "outputId": "419ebf69-2855-433d-ea85-ec91e5e3471f"
      },
      "execution_count": null,
      "outputs": [
        {
          "output_type": "execute_result",
          "data": {
            "text/plain": [
              "   PassengerId  Survived  Pclass  \\\n",
              "0            1         0       3   \n",
              "1            2         1       1   \n",
              "2            3         1       3   \n",
              "3            4         1       1   \n",
              "4            5         0       3   \n",
              "\n",
              "                                                Name     Sex   Age  SibSp  \\\n",
              "0                            Braund, Mr. Owen Harris    male  22.0      1   \n",
              "1  Cumings, Mrs. John Bradley (Florence Briggs Th...  female  38.0      1   \n",
              "2                             Heikkinen, Miss. Laina  female  26.0      0   \n",
              "3       Futrelle, Mrs. Jacques Heath (Lily May Peel)  female  35.0      1   \n",
              "4                           Allen, Mr. William Henry    male  35.0      0   \n",
              "\n",
              "   Parch            Ticket     Fare Cabin Embarked  \n",
              "0      0         A/5 21171   7.2500   NaN        S  \n",
              "1      0          PC 17599  71.2833   C85        C  \n",
              "2      0  STON/O2. 3101282   7.9250   NaN        S  \n",
              "3      0            113803  53.1000  C123        S  \n",
              "4      0            373450   8.0500   NaN        S  "
            ],
            "text/html": [
              "\n",
              "  <div id=\"df-6f77c8db-317e-4d65-b82d-ee4356ddbda8\" class=\"colab-df-container\">\n",
              "    <div>\n",
              "<style scoped>\n",
              "    .dataframe tbody tr th:only-of-type {\n",
              "        vertical-align: middle;\n",
              "    }\n",
              "\n",
              "    .dataframe tbody tr th {\n",
              "        vertical-align: top;\n",
              "    }\n",
              "\n",
              "    .dataframe thead th {\n",
              "        text-align: right;\n",
              "    }\n",
              "</style>\n",
              "<table border=\"1\" class=\"dataframe\">\n",
              "  <thead>\n",
              "    <tr style=\"text-align: right;\">\n",
              "      <th></th>\n",
              "      <th>PassengerId</th>\n",
              "      <th>Survived</th>\n",
              "      <th>Pclass</th>\n",
              "      <th>Name</th>\n",
              "      <th>Sex</th>\n",
              "      <th>Age</th>\n",
              "      <th>SibSp</th>\n",
              "      <th>Parch</th>\n",
              "      <th>Ticket</th>\n",
              "      <th>Fare</th>\n",
              "      <th>Cabin</th>\n",
              "      <th>Embarked</th>\n",
              "    </tr>\n",
              "  </thead>\n",
              "  <tbody>\n",
              "    <tr>\n",
              "      <th>0</th>\n",
              "      <td>1</td>\n",
              "      <td>0</td>\n",
              "      <td>3</td>\n",
              "      <td>Braund, Mr. Owen Harris</td>\n",
              "      <td>male</td>\n",
              "      <td>22.0</td>\n",
              "      <td>1</td>\n",
              "      <td>0</td>\n",
              "      <td>A/5 21171</td>\n",
              "      <td>7.2500</td>\n",
              "      <td>NaN</td>\n",
              "      <td>S</td>\n",
              "    </tr>\n",
              "    <tr>\n",
              "      <th>1</th>\n",
              "      <td>2</td>\n",
              "      <td>1</td>\n",
              "      <td>1</td>\n",
              "      <td>Cumings, Mrs. John Bradley (Florence Briggs Th...</td>\n",
              "      <td>female</td>\n",
              "      <td>38.0</td>\n",
              "      <td>1</td>\n",
              "      <td>0</td>\n",
              "      <td>PC 17599</td>\n",
              "      <td>71.2833</td>\n",
              "      <td>C85</td>\n",
              "      <td>C</td>\n",
              "    </tr>\n",
              "    <tr>\n",
              "      <th>2</th>\n",
              "      <td>3</td>\n",
              "      <td>1</td>\n",
              "      <td>3</td>\n",
              "      <td>Heikkinen, Miss. Laina</td>\n",
              "      <td>female</td>\n",
              "      <td>26.0</td>\n",
              "      <td>0</td>\n",
              "      <td>0</td>\n",
              "      <td>STON/O2. 3101282</td>\n",
              "      <td>7.9250</td>\n",
              "      <td>NaN</td>\n",
              "      <td>S</td>\n",
              "    </tr>\n",
              "    <tr>\n",
              "      <th>3</th>\n",
              "      <td>4</td>\n",
              "      <td>1</td>\n",
              "      <td>1</td>\n",
              "      <td>Futrelle, Mrs. Jacques Heath (Lily May Peel)</td>\n",
              "      <td>female</td>\n",
              "      <td>35.0</td>\n",
              "      <td>1</td>\n",
              "      <td>0</td>\n",
              "      <td>113803</td>\n",
              "      <td>53.1000</td>\n",
              "      <td>C123</td>\n",
              "      <td>S</td>\n",
              "    </tr>\n",
              "    <tr>\n",
              "      <th>4</th>\n",
              "      <td>5</td>\n",
              "      <td>0</td>\n",
              "      <td>3</td>\n",
              "      <td>Allen, Mr. William Henry</td>\n",
              "      <td>male</td>\n",
              "      <td>35.0</td>\n",
              "      <td>0</td>\n",
              "      <td>0</td>\n",
              "      <td>373450</td>\n",
              "      <td>8.0500</td>\n",
              "      <td>NaN</td>\n",
              "      <td>S</td>\n",
              "    </tr>\n",
              "  </tbody>\n",
              "</table>\n",
              "</div>\n",
              "    <div class=\"colab-df-buttons\">\n",
              "\n",
              "  <div class=\"colab-df-container\">\n",
              "    <button class=\"colab-df-convert\" onclick=\"convertToInteractive('df-6f77c8db-317e-4d65-b82d-ee4356ddbda8')\"\n",
              "            title=\"Convert this dataframe to an interactive table.\"\n",
              "            style=\"display:none;\">\n",
              "\n",
              "  <svg xmlns=\"http://www.w3.org/2000/svg\" height=\"24px\" viewBox=\"0 -960 960 960\">\n",
              "    <path d=\"M120-120v-720h720v720H120Zm60-500h600v-160H180v160Zm220 220h160v-160H400v160Zm0 220h160v-160H400v160ZM180-400h160v-160H180v160Zm440 0h160v-160H620v160ZM180-180h160v-160H180v160Zm440 0h160v-160H620v160Z\"/>\n",
              "  </svg>\n",
              "    </button>\n",
              "\n",
              "  <style>\n",
              "    .colab-df-container {\n",
              "      display:flex;\n",
              "      gap: 12px;\n",
              "    }\n",
              "\n",
              "    .colab-df-convert {\n",
              "      background-color: #E8F0FE;\n",
              "      border: none;\n",
              "      border-radius: 50%;\n",
              "      cursor: pointer;\n",
              "      display: none;\n",
              "      fill: #1967D2;\n",
              "      height: 32px;\n",
              "      padding: 0 0 0 0;\n",
              "      width: 32px;\n",
              "    }\n",
              "\n",
              "    .colab-df-convert:hover {\n",
              "      background-color: #E2EBFA;\n",
              "      box-shadow: 0px 1px 2px rgba(60, 64, 67, 0.3), 0px 1px 3px 1px rgba(60, 64, 67, 0.15);\n",
              "      fill: #174EA6;\n",
              "    }\n",
              "\n",
              "    .colab-df-buttons div {\n",
              "      margin-bottom: 4px;\n",
              "    }\n",
              "\n",
              "    [theme=dark] .colab-df-convert {\n",
              "      background-color: #3B4455;\n",
              "      fill: #D2E3FC;\n",
              "    }\n",
              "\n",
              "    [theme=dark] .colab-df-convert:hover {\n",
              "      background-color: #434B5C;\n",
              "      box-shadow: 0px 1px 3px 1px rgba(0, 0, 0, 0.15);\n",
              "      filter: drop-shadow(0px 1px 2px rgba(0, 0, 0, 0.3));\n",
              "      fill: #FFFFFF;\n",
              "    }\n",
              "  </style>\n",
              "\n",
              "    <script>\n",
              "      const buttonEl =\n",
              "        document.querySelector('#df-6f77c8db-317e-4d65-b82d-ee4356ddbda8 button.colab-df-convert');\n",
              "      buttonEl.style.display =\n",
              "        google.colab.kernel.accessAllowed ? 'block' : 'none';\n",
              "\n",
              "      async function convertToInteractive(key) {\n",
              "        const element = document.querySelector('#df-6f77c8db-317e-4d65-b82d-ee4356ddbda8');\n",
              "        const dataTable =\n",
              "          await google.colab.kernel.invokeFunction('convertToInteractive',\n",
              "                                                    [key], {});\n",
              "        if (!dataTable) return;\n",
              "\n",
              "        const docLinkHtml = 'Like what you see? Visit the ' +\n",
              "          '<a target=\"_blank\" href=https://colab.research.google.com/notebooks/data_table.ipynb>data table notebook</a>'\n",
              "          + ' to learn more about interactive tables.';\n",
              "        element.innerHTML = '';\n",
              "        dataTable['output_type'] = 'display_data';\n",
              "        await google.colab.output.renderOutput(dataTable, element);\n",
              "        const docLink = document.createElement('div');\n",
              "        docLink.innerHTML = docLinkHtml;\n",
              "        element.appendChild(docLink);\n",
              "      }\n",
              "    </script>\n",
              "  </div>\n",
              "\n",
              "\n",
              "<div id=\"df-12f40a20-2ce8-4ad5-9d14-52fc10af2561\">\n",
              "  <button class=\"colab-df-quickchart\" onclick=\"quickchart('df-12f40a20-2ce8-4ad5-9d14-52fc10af2561')\"\n",
              "            title=\"Suggest charts\"\n",
              "            style=\"display:none;\">\n",
              "\n",
              "<svg xmlns=\"http://www.w3.org/2000/svg\" height=\"24px\"viewBox=\"0 0 24 24\"\n",
              "     width=\"24px\">\n",
              "    <g>\n",
              "        <path d=\"M19 3H5c-1.1 0-2 .9-2 2v14c0 1.1.9 2 2 2h14c1.1 0 2-.9 2-2V5c0-1.1-.9-2-2-2zM9 17H7v-7h2v7zm4 0h-2V7h2v10zm4 0h-2v-4h2v4z\"/>\n",
              "    </g>\n",
              "</svg>\n",
              "  </button>\n",
              "\n",
              "<style>\n",
              "  .colab-df-quickchart {\n",
              "      --bg-color: #E8F0FE;\n",
              "      --fill-color: #1967D2;\n",
              "      --hover-bg-color: #E2EBFA;\n",
              "      --hover-fill-color: #174EA6;\n",
              "      --disabled-fill-color: #AAA;\n",
              "      --disabled-bg-color: #DDD;\n",
              "  }\n",
              "\n",
              "  [theme=dark] .colab-df-quickchart {\n",
              "      --bg-color: #3B4455;\n",
              "      --fill-color: #D2E3FC;\n",
              "      --hover-bg-color: #434B5C;\n",
              "      --hover-fill-color: #FFFFFF;\n",
              "      --disabled-bg-color: #3B4455;\n",
              "      --disabled-fill-color: #666;\n",
              "  }\n",
              "\n",
              "  .colab-df-quickchart {\n",
              "    background-color: var(--bg-color);\n",
              "    border: none;\n",
              "    border-radius: 50%;\n",
              "    cursor: pointer;\n",
              "    display: none;\n",
              "    fill: var(--fill-color);\n",
              "    height: 32px;\n",
              "    padding: 0;\n",
              "    width: 32px;\n",
              "  }\n",
              "\n",
              "  .colab-df-quickchart:hover {\n",
              "    background-color: var(--hover-bg-color);\n",
              "    box-shadow: 0 1px 2px rgba(60, 64, 67, 0.3), 0 1px 3px 1px rgba(60, 64, 67, 0.15);\n",
              "    fill: var(--button-hover-fill-color);\n",
              "  }\n",
              "\n",
              "  .colab-df-quickchart-complete:disabled,\n",
              "  .colab-df-quickchart-complete:disabled:hover {\n",
              "    background-color: var(--disabled-bg-color);\n",
              "    fill: var(--disabled-fill-color);\n",
              "    box-shadow: none;\n",
              "  }\n",
              "\n",
              "  .colab-df-spinner {\n",
              "    border: 2px solid var(--fill-color);\n",
              "    border-color: transparent;\n",
              "    border-bottom-color: var(--fill-color);\n",
              "    animation:\n",
              "      spin 1s steps(1) infinite;\n",
              "  }\n",
              "\n",
              "  @keyframes spin {\n",
              "    0% {\n",
              "      border-color: transparent;\n",
              "      border-bottom-color: var(--fill-color);\n",
              "      border-left-color: var(--fill-color);\n",
              "    }\n",
              "    20% {\n",
              "      border-color: transparent;\n",
              "      border-left-color: var(--fill-color);\n",
              "      border-top-color: var(--fill-color);\n",
              "    }\n",
              "    30% {\n",
              "      border-color: transparent;\n",
              "      border-left-color: var(--fill-color);\n",
              "      border-top-color: var(--fill-color);\n",
              "      border-right-color: var(--fill-color);\n",
              "    }\n",
              "    40% {\n",
              "      border-color: transparent;\n",
              "      border-right-color: var(--fill-color);\n",
              "      border-top-color: var(--fill-color);\n",
              "    }\n",
              "    60% {\n",
              "      border-color: transparent;\n",
              "      border-right-color: var(--fill-color);\n",
              "    }\n",
              "    80% {\n",
              "      border-color: transparent;\n",
              "      border-right-color: var(--fill-color);\n",
              "      border-bottom-color: var(--fill-color);\n",
              "    }\n",
              "    90% {\n",
              "      border-color: transparent;\n",
              "      border-bottom-color: var(--fill-color);\n",
              "    }\n",
              "  }\n",
              "</style>\n",
              "\n",
              "  <script>\n",
              "    async function quickchart(key) {\n",
              "      const quickchartButtonEl =\n",
              "        document.querySelector('#' + key + ' button');\n",
              "      quickchartButtonEl.disabled = true;  // To prevent multiple clicks.\n",
              "      quickchartButtonEl.classList.add('colab-df-spinner');\n",
              "      try {\n",
              "        const charts = await google.colab.kernel.invokeFunction(\n",
              "            'suggestCharts', [key], {});\n",
              "      } catch (error) {\n",
              "        console.error('Error during call to suggestCharts:', error);\n",
              "      }\n",
              "      quickchartButtonEl.classList.remove('colab-df-spinner');\n",
              "      quickchartButtonEl.classList.add('colab-df-quickchart-complete');\n",
              "    }\n",
              "    (() => {\n",
              "      let quickchartButtonEl =\n",
              "        document.querySelector('#df-12f40a20-2ce8-4ad5-9d14-52fc10af2561 button');\n",
              "      quickchartButtonEl.style.display =\n",
              "        google.colab.kernel.accessAllowed ? 'block' : 'none';\n",
              "    })();\n",
              "  </script>\n",
              "</div>\n",
              "\n",
              "    </div>\n",
              "  </div>\n"
            ]
          },
          "metadata": {},
          "execution_count": 19
        }
      ]
    },
    {
      "cell_type": "code",
      "source": [
        "training_data.isnull().sum()"
      ],
      "metadata": {
        "colab": {
          "base_uri": "https://localhost:8080/"
        },
        "id": "F7OSZ9GZYMm1",
        "outputId": "22d4573c-b7cc-4cd0-aacd-cebb2dc5d448"
      },
      "execution_count": null,
      "outputs": [
        {
          "output_type": "execute_result",
          "data": {
            "text/plain": [
              "PassengerId      0\n",
              "Survived         0\n",
              "Pclass           0\n",
              "Name             0\n",
              "Sex              0\n",
              "Age            177\n",
              "SibSp            0\n",
              "Parch            0\n",
              "Ticket           0\n",
              "Fare             0\n",
              "Cabin          687\n",
              "Embarked         2\n",
              "dtype: int64"
            ]
          },
          "metadata": {},
          "execution_count": 20
        }
      ]
    },
    {
      "cell_type": "code",
      "source": [
        "test_data.isnull().sum()"
      ],
      "metadata": {
        "colab": {
          "base_uri": "https://localhost:8080/"
        },
        "id": "cSFWb-a0YdOD",
        "outputId": "fd555308-98bc-49a6-940a-b34bcc014de8"
      },
      "execution_count": null,
      "outputs": [
        {
          "output_type": "execute_result",
          "data": {
            "text/plain": [
              "PassengerId      0\n",
              "Pclass           0\n",
              "Name             0\n",
              "Sex              0\n",
              "Age             86\n",
              "SibSp            0\n",
              "Parch            0\n",
              "Ticket           0\n",
              "Fare             1\n",
              "Cabin          327\n",
              "Embarked         0\n",
              "dtype: int64"
            ]
          },
          "metadata": {},
          "execution_count": 21
        }
      ]
    },
    {
      "cell_type": "code",
      "source": [
        "def preprocessing(data,is_train = True):\n",
        "  # drop unnecessary features\n",
        "  data.drop(columns= ['PassengerId', 'Name', 'Ticket', 'Cabin'], inplace=True)\n",
        "  data[\"Age\"].fillna(data[\"Age\"].mean(),inplace = True)\n",
        "  data[\"Embarked\"].fillna(data[\"Embarked\"].mode()[0],inplace= True)\n",
        "  data[\"Fare\"].fillna(data[\"Fare\"].mean(),inplace = True)\n",
        "\n",
        "  # encode categorical feature\n",
        "  label_encoder = LabelEncoder()\n",
        "  data[\"Sex\"] = label_encoder.fit_transform(data[\"Sex\"])\n",
        "  data[\"Embarked\"] = label_encoder.fit_transform(data[\"Embarked\"])\n",
        "\n",
        "  # select features\n",
        "  columns = ['Pclass', 'Sex', 'Age', 'SibSp', 'Parch', 'Fare', 'Embarked']\n",
        "\n",
        "  if is_train:\n",
        "    X = data[columns].values\n",
        "    y = data[\"Survived\"].values\n",
        "    return X,y\n",
        "  else:\n",
        "    X = data[columns].values\n",
        "    return X\n"
      ],
      "metadata": {
        "id": "WYx2nykRYg_X"
      },
      "execution_count": null,
      "outputs": []
    },
    {
      "cell_type": "code",
      "source": [
        "X_train,y_train = preprocessing(training_data)\n",
        "X_test = preprocessing(test_data,is_train=False)\n",
        "\n",
        "X_train,X_valid,y_train,y_valid = train_test_split(X_train,y_train,test_size=0.2,random_state = 9)\n",
        "\n"
      ],
      "metadata": {
        "id": "jgNISefrafAw"
      },
      "execution_count": null,
      "outputs": []
    },
    {
      "cell_type": "code",
      "source": [
        "# convert data to pytorch tensors\n",
        "\n",
        "X_train_tensor = torch.tensor(X_train,dtype = torch.float32)\n",
        "y_train_tensor = torch.tensor(y_train,dtype = torch.long)\n",
        "X_val_tensor = torch.tensor(X_valid,dtype = torch.float32)\n",
        "y_val_tensor = torch.tensor(y_valid,dtype = torch.long)\n",
        "X_test_tensor = torch.tensor(X_test,dtype = torch.float32)\n"
      ],
      "metadata": {
        "id": "_qyk3w0Wc1YZ"
      },
      "execution_count": null,
      "outputs": []
    },
    {
      "cell_type": "code",
      "source": [
        "# create data loader\n",
        "train_dataset = TensorDataset(X_train_tensor,y_train_tensor)\n",
        "val_dataset = TensorDataset(X_val_tensor,y_val_tensor)\n",
        "\n",
        "batch_size = 64\n",
        "\n",
        "train_dataloader = DataLoader(train_dataset,batch_size = 64,shuffle=True)\n",
        "val_dataloader = DataLoader(val_dataset,batch_size = 64)\n",
        "test_dataloader = DataLoader(X_test_tensor,batch_size = 64)"
      ],
      "metadata": {
        "id": "8OWGPRVs8HiQ"
      },
      "execution_count": null,
      "outputs": []
    },
    {
      "cell_type": "code",
      "source": [
        "#Define the nueral network with dropout\n",
        "\n",
        "class TitanicNN(nn.Module):\n",
        "  def __init__(self,input_size):\n",
        "    super(TitanicNN, self).__init__()\n",
        "    self.layer1 = nn.Linear(input_size,64)\n",
        "    self.relu = nn.ReLU()\n",
        "    self.dropout = nn.Dropout(0.5)\n",
        "    self.layer2 = nn.Linear(64,2)\n",
        "    self.softmax = nn.Softmax(dim=1)\n",
        "\n",
        "  def forward(self,x):\n",
        "    x = self.layer1(x)\n",
        "    x = self.relu(x)\n",
        "    x = self.dropout(x)\n",
        "    x = self.layer2(x)\n",
        "    x = self.softmax(x)\n",
        "    return x"
      ],
      "metadata": {
        "id": "G1-gJ_QD8gCs"
      },
      "execution_count": null,
      "outputs": []
    },
    {
      "cell_type": "code",
      "source": [
        "# model making\n",
        "input_size = X_train.shape[1]\n",
        "model = TitanicNN(input_size).to(device)"
      ],
      "metadata": {
        "id": "_w6NpCe4_1rY"
      },
      "execution_count": null,
      "outputs": []
    },
    {
      "cell_type": "code",
      "source": [
        "loss_fn = nn.CrossEntropyLoss()\n",
        "optimizer = optim.Adam(model.parameters(),lr = 0.001)"
      ],
      "metadata": {
        "id": "Q9ytbVLwBh8e"
      },
      "execution_count": null,
      "outputs": []
    },
    {
      "cell_type": "code",
      "source": [
        "# training phase\n",
        "# importing learning rate scheduler\n",
        "import torch.optim.lr_scheduler as lr_scheduler\n",
        "scheduler = lr_scheduler.StepLR(optimizer,step_size=20,gamma = 0.1)# creating step lr scheduler\n",
        "# setting up early stopping parameters\n",
        "patience = 10\n",
        "best_loss = float(\"inf\")\n",
        "counter = 0\n",
        "epoch = 100\n",
        "val_losses = []\n",
        "train_losses=[]\n",
        "# model training starts\n",
        "for epoch in range(epoch):\n",
        "  model.train()\n",
        "  train_loss = [] # Reset the train_loss list for each epoch\n",
        "  for batch in train_dataloader:\n",
        "    X,y = batch\n",
        "    X,y = X.to(device), y.to(device)\n",
        "    output = model(X)\n",
        "    optimizer.zero_grad()\n",
        "    loss = loss_fn(output,y)\n",
        "    loss.backward()\n",
        "    optimizer.step()\n",
        "    train_loss.append(loss.item())\n",
        "\n",
        "  model.eval()\n",
        "  correct = 0\n",
        "  total = 0\n",
        "  val_losses = [] # Reset the val_losses list for each epoch\n",
        "  with torch.no_grad():\n",
        "    for batch in val_dataloader:\n",
        "      X,y = batch\n",
        "      X,y = X.to(device), y.to(device)\n",
        "      output = model(X)\n",
        "      loss  = loss_fn(output,y)\n",
        "      val_losses.append(loss.item())\n",
        "\n",
        "      _, predicted = torch.max(output.data,1)\n",
        "      total = total + y.size(0)\n",
        "      correct += (predicted ==y).sum().item()\n",
        "    accuracy = correct * 100 / total # accuracy of validation in one epoch\n",
        "\n",
        "  # step the learning rate scheduler()\n",
        "  scheduler.step() # it will update the learning rate\n",
        "\n",
        "  print(\"epoch: {}, train loss: {:.4f}, validation loss: {:.4f},validation accuracy:{:.3f}%\".format\n",
        "                 (epoch + 1, np.mean(train_loss), np.mean(val_losses), accuracy))\n",
        "\n",
        "  if np.mean(val_losses) < best_loss :\n",
        "    best_loss = np.mean(val_losses)\n",
        "    counter = 0\n",
        "  else:\n",
        "    counter += 1\n",
        "\n",
        "  if counter >= patience :\n",
        "    print(f\"early stopping after {epoch + 1} epochs\")\n",
        "    break\n",
        "\n",
        "\n"
      ],
      "metadata": {
        "colab": {
          "base_uri": "https://localhost:8080/"
        },
        "id": "MayuxHnICERs",
        "outputId": "4057720d-871c-4ab7-9b2d-84c0ae3b409f"
      },
      "execution_count": null,
      "outputs": [
        {
          "output_type": "stream",
          "name": "stdout",
          "text": [
            "epoch: 1, train loss: 0.7133, validation loss: 0.6884,validation accuracy:60.335%\n",
            "epoch: 2, train loss: 0.6398, validation loss: 0.6933,validation accuracy:60.894%\n",
            "epoch: 3, train loss: 0.6452, validation loss: 0.6946,validation accuracy:60.335%\n",
            "epoch: 4, train loss: 0.6382, validation loss: 0.6959,validation accuracy:60.335%\n",
            "epoch: 5, train loss: 0.6241, validation loss: 0.6972,validation accuracy:60.335%\n",
            "epoch: 6, train loss: 0.6278, validation loss: 0.6970,validation accuracy:60.894%\n",
            "epoch: 7, train loss: 0.6431, validation loss: 0.6958,validation accuracy:60.335%\n",
            "epoch: 8, train loss: 0.6216, validation loss: 0.6969,validation accuracy:60.894%\n",
            "epoch: 9, train loss: 0.6359, validation loss: 0.6925,validation accuracy:60.894%\n",
            "epoch: 10, train loss: 0.6297, validation loss: 0.6865,validation accuracy:61.453%\n",
            "epoch: 11, train loss: 0.6304, validation loss: 0.6829,validation accuracy:62.570%\n",
            "epoch: 12, train loss: 0.6468, validation loss: 0.6798,validation accuracy:62.570%\n",
            "epoch: 13, train loss: 0.6228, validation loss: 0.6788,validation accuracy:63.128%\n",
            "epoch: 14, train loss: 0.6115, validation loss: 0.6796,validation accuracy:63.128%\n",
            "epoch: 15, train loss: 0.6104, validation loss: 0.6803,validation accuracy:62.570%\n",
            "epoch: 16, train loss: 0.5987, validation loss: 0.6799,validation accuracy:63.128%\n",
            "epoch: 17, train loss: 0.6347, validation loss: 0.6780,validation accuracy:63.128%\n",
            "epoch: 18, train loss: 0.6438, validation loss: 0.6804,validation accuracy:63.128%\n",
            "epoch: 19, train loss: 0.6088, validation loss: 0.6812,validation accuracy:62.570%\n",
            "epoch: 20, train loss: 0.6279, validation loss: 0.6781,validation accuracy:63.128%\n",
            "epoch: 21, train loss: 0.6305, validation loss: 0.6779,validation accuracy:62.570%\n",
            "epoch: 22, train loss: 0.6115, validation loss: 0.6776,validation accuracy:62.570%\n",
            "epoch: 23, train loss: 0.6073, validation loss: 0.6772,validation accuracy:63.128%\n",
            "epoch: 24, train loss: 0.6073, validation loss: 0.6768,validation accuracy:63.128%\n",
            "epoch: 25, train loss: 0.6418, validation loss: 0.6771,validation accuracy:63.128%\n",
            "epoch: 26, train loss: 0.6249, validation loss: 0.6772,validation accuracy:63.128%\n",
            "epoch: 27, train loss: 0.6208, validation loss: 0.6773,validation accuracy:62.570%\n",
            "epoch: 28, train loss: 0.6210, validation loss: 0.6770,validation accuracy:63.128%\n",
            "epoch: 29, train loss: 0.6205, validation loss: 0.6771,validation accuracy:63.128%\n",
            "epoch: 30, train loss: 0.6250, validation loss: 0.6771,validation accuracy:63.128%\n",
            "epoch: 31, train loss: 0.6134, validation loss: 0.6770,validation accuracy:63.128%\n",
            "epoch: 32, train loss: 0.6011, validation loss: 0.6768,validation accuracy:63.128%\n",
            "epoch: 33, train loss: 0.6389, validation loss: 0.6768,validation accuracy:63.128%\n",
            "epoch: 34, train loss: 0.5949, validation loss: 0.6766,validation accuracy:63.128%\n",
            "epoch: 35, train loss: 0.5864, validation loss: 0.6762,validation accuracy:63.128%\n",
            "epoch: 36, train loss: 0.6115, validation loss: 0.6760,validation accuracy:63.128%\n",
            "epoch: 37, train loss: 0.6098, validation loss: 0.6763,validation accuracy:63.128%\n",
            "epoch: 38, train loss: 0.6030, validation loss: 0.6766,validation accuracy:63.128%\n",
            "epoch: 39, train loss: 0.6065, validation loss: 0.6768,validation accuracy:63.128%\n",
            "epoch: 40, train loss: 0.6161, validation loss: 0.6772,validation accuracy:63.128%\n",
            "epoch: 41, train loss: 0.6068, validation loss: 0.6772,validation accuracy:63.128%\n",
            "epoch: 42, train loss: 0.5999, validation loss: 0.6773,validation accuracy:63.128%\n",
            "epoch: 43, train loss: 0.6130, validation loss: 0.6772,validation accuracy:63.128%\n",
            "epoch: 44, train loss: 0.6148, validation loss: 0.6771,validation accuracy:63.128%\n",
            "epoch: 45, train loss: 0.6252, validation loss: 0.6771,validation accuracy:63.128%\n",
            "epoch: 46, train loss: 0.6029, validation loss: 0.6771,validation accuracy:63.128%\n",
            "early stopping after 46 epochs\n"
          ]
        }
      ]
    },
    {
      "cell_type": "code",
      "source": [
        "# prediction for test data\n",
        "\n",
        "model.eval()\n",
        "prediction = []\n",
        "with torch.no_grad():\n",
        "  for batch in test_dataloader:\n",
        "    X = batch\n",
        "    X = X.to(device)\n",
        "    output = model(X)\n",
        "    _,predicted = torch.max(output.data,1)\n",
        "    prediction.extend(predicted.cpu().numpy())\n",
        "    total = total + X.size(0)"
      ],
      "metadata": {
        "id": "ukn_qGbvgDst"
      },
      "execution_count": null,
      "outputs": []
    },
    {
      "cell_type": "code",
      "source": [
        "len(prediction)"
      ],
      "metadata": {
        "colab": {
          "base_uri": "https://localhost:8080/"
        },
        "id": "MmRkRHt5hI57",
        "outputId": "20c47114-a048-40c6-b074-464acc59ab34"
      },
      "execution_count": null,
      "outputs": [
        {
          "output_type": "execute_result",
          "data": {
            "text/plain": [
              "418"
            ]
          },
          "metadata": {},
          "execution_count": 36
        }
      ]
    },
    {
      "cell_type": "code",
      "source": [
        "total"
      ],
      "metadata": {
        "colab": {
          "base_uri": "https://localhost:8080/"
        },
        "id": "ABOBcWUfhSmU",
        "outputId": "ae63dcbf-2b68-4ba8-8de7-9f40b94fafed"
      },
      "execution_count": null,
      "outputs": [
        {
          "output_type": "execute_result",
          "data": {
            "text/plain": [
              "597"
            ]
          },
          "metadata": {},
          "execution_count": 37
        }
      ]
    },
    {
      "cell_type": "code",
      "source": [
        "X_test.shape"
      ],
      "metadata": {
        "colab": {
          "base_uri": "https://localhost:8080/"
        },
        "id": "_ShWfj8nhVgW",
        "outputId": "910413e5-b7c6-49bc-c95c-40f1e5effe03"
      },
      "execution_count": null,
      "outputs": [
        {
          "output_type": "execute_result",
          "data": {
            "text/plain": [
              "(418, 7)"
            ]
          },
          "metadata": {},
          "execution_count": 38
        }
      ]
    },
    {
      "cell_type": "code",
      "source": [
        "df = pd.DataFrame(prediction)\n",
        "df.value_counts()\n"
      ],
      "metadata": {
        "colab": {
          "base_uri": "https://localhost:8080/"
        },
        "id": "c8jc9jAthaBK",
        "outputId": "b6d5f078-2bd8-4835-fcc0-018304430087"
      },
      "execution_count": null,
      "outputs": [
        {
          "output_type": "execute_result",
          "data": {
            "text/plain": [
              "0    306\n",
              "1    112\n",
              "dtype: int64"
            ]
          },
          "metadata": {},
          "execution_count": 41
        }
      ]
    },
    {
      "cell_type": "code",
      "source": [],
      "metadata": {
        "id": "Wkv5KbTNhshT"
      },
      "execution_count": null,
      "outputs": []
    }
  ]
}